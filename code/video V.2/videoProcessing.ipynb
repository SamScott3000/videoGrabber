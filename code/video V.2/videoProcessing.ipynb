{
 "cells": [
  {
   "cell_type": "code",
   "execution_count": 2,
   "metadata": {},
   "outputs": [
    {
     "name": "stdout",
     "output_type": "stream",
     "text": [
      "[0.0, 64.0, 69.0]\n",
      "[64.0, 69.0, 128.0]\n"
     ]
    },
    {
     "name": "stderr",
     "output_type": "stream",
     "text": [
      "t:  62%|██████▏   | 443/720 [01:07<00:01, 183.26it/s, now=None]"
     ]
    },
    {
     "name": "stdout",
     "output_type": "stream",
     "text": [
      "Moviepy - Building video processedVideos/2 eiffel tower PROCESSED.mp4.\n",
      "Moviepy - Writing video processedVideos/2 eiffel tower PROCESSED.mp4\n",
      "\n"
     ]
    },
    {
     "name": "stderr",
     "output_type": "stream",
     "text": [
      "t:  62%|██████▏   | 443/720 [01:13<00:01, 183.26it/s, now=None]"
     ]
    },
    {
     "name": "stdout",
     "output_type": "stream",
     "text": [
      "Moviepy - Done !\n",
      "Moviepy - video ready processedVideos/2 eiffel tower PROCESSED.mp4\n",
      "[10.0, 16.0, 29.0, 111.0, 116.0, 118.0, 130.0, 139.0]\n",
      "[16, 19, 32, 116, 118, 130, 139, 152]\n"
     ]
    },
    {
     "name": "stderr",
     "output_type": "stream",
     "text": [
      "t:  62%|██████▏   | 443/720 [01:13<00:01, 183.26it/s, now=None]"
     ]
    },
    {
     "name": "stdout",
     "output_type": "stream",
     "text": [
      "Moviepy - Building video processedVideos/3 eiffel tower PROCESSED.mp4.\n",
      "Moviepy - Writing video processedVideos/3 eiffel tower PROCESSED.mp4\n",
      "\n"
     ]
    },
    {
     "name": "stderr",
     "output_type": "stream",
     "text": [
      "t:  62%|██████▏   | 443/720 [01:17<00:01, 183.26it/s, now=None]"
     ]
    },
    {
     "name": "stdout",
     "output_type": "stream",
     "text": [
      "Moviepy - Done !\n",
      "Moviepy - video ready processedVideos/3 eiffel tower PROCESSED.mp4\n",
      "[9.0, 13.0, 70.0]\n",
      "[13, 20, 75]\n"
     ]
    },
    {
     "name": "stderr",
     "output_type": "stream",
     "text": [
      "t:  62%|██████▏   | 443/720 [01:18<00:01, 183.26it/s, now=None]"
     ]
    },
    {
     "name": "stdout",
     "output_type": "stream",
     "text": [
      "Moviepy - Building video processedVideos/4 eiffel tower PROCESSED.mp4.\n",
      "Moviepy - Writing video processedVideos/4 eiffel tower PROCESSED.mp4\n",
      "\n"
     ]
    },
    {
     "name": "stderr",
     "output_type": "stream",
     "text": [
      "t:  62%|██████▏   | 443/720 [01:22<00:01, 183.26it/s, now=None]"
     ]
    },
    {
     "name": "stdout",
     "output_type": "stream",
     "text": [
      "Moviepy - Done !\n",
      "Moviepy - video ready processedVideos/4 eiffel tower PROCESSED.mp4\n",
      "[24.0, 40.0, 58.0]\n",
      "[40, 58, 73]\n"
     ]
    },
    {
     "name": "stderr",
     "output_type": "stream",
     "text": [
      "t:  62%|██████▏   | 443/720 [01:22<00:01, 183.26it/s, now=None]"
     ]
    },
    {
     "name": "stdout",
     "output_type": "stream",
     "text": [
      "Moviepy - Building video processedVideos/5 eiffel tower PROCESSED.mp4.\n",
      "Moviepy - Writing video processedVideos/5 eiffel tower PROCESSED.mp4\n",
      "\n"
     ]
    },
    {
     "name": "stderr",
     "output_type": "stream",
     "text": [
      "t:  62%|██████▏   | 443/720 [01:25<00:01, 183.26it/s, now=None]"
     ]
    },
    {
     "name": "stdout",
     "output_type": "stream",
     "text": [
      "Moviepy - Done !\n",
      "Moviepy - video ready processedVideos/5 eiffel tower PROCESSED.mp4\n",
      "[0.0, 13.0]\n",
      "[3, 15]\n"
     ]
    },
    {
     "name": "stderr",
     "output_type": "stream",
     "text": [
      "t:  62%|██████▏   | 443/720 [01:25<00:01, 183.26it/s, now=None]"
     ]
    },
    {
     "name": "stdout",
     "output_type": "stream",
     "text": [
      "Moviepy - Building video processedVideos/7 eiffel tower PROCESSED.mp4.\n",
      "Moviepy - Writing video processedVideos/7 eiffel tower PROCESSED.mp4\n",
      "\n"
     ]
    },
    {
     "name": "stderr",
     "output_type": "stream",
     "text": [
      "t:  62%|██████▏   | 443/720 [01:28<00:01, 183.26it/s, now=None]"
     ]
    },
    {
     "name": "stdout",
     "output_type": "stream",
     "text": [
      "Moviepy - Done !\n",
      "Moviepy - video ready processedVideos/7 eiffel tower PROCESSED.mp4\n",
      "[0]\n",
      "[24]\n",
      "Moviepy - Building video processedVideos/10 eiffel tower PROCESSED.mp4.\n",
      "MoviePy - Writing audio in 10 eiffel tower PROCESSEDTEMP_MPY_wvf_snd.mp3\n"
     ]
    },
    {
     "name": "stderr",
     "output_type": "stream",
     "text": [
      "t:  62%|██████▏   | 443/720 [01:29<00:01, 183.26it/s, now=None]"
     ]
    },
    {
     "name": "stdout",
     "output_type": "stream",
     "text": [
      "MoviePy - Done.\n",
      "Moviepy - Writing video processedVideos/10 eiffel tower PROCESSED.mp4\n",
      "\n"
     ]
    },
    {
     "name": "stderr",
     "output_type": "stream",
     "text": [
      "t:  62%|██████▏   | 443/720 [01:32<00:01, 183.26it/s, now=None]"
     ]
    },
    {
     "name": "stdout",
     "output_type": "stream",
     "text": [
      "Moviepy - Done !\n",
      "Moviepy - video ready processedVideos/10 eiffel tower PROCESSED.mp4\n",
      "[0.0, 30.0, 48.0, 53.0, 55.0]\n",
      "[30, 48, 53, 55, 89]\n"
     ]
    },
    {
     "name": "stderr",
     "output_type": "stream",
     "text": [
      "t:  62%|██████▏   | 443/720 [01:33<00:01, 183.26it/s, now=None]"
     ]
    },
    {
     "name": "stdout",
     "output_type": "stream",
     "text": [
      "Moviepy - Building video processedVideos/11 eiffel tower PROCESSED.mp4.\n",
      "MoviePy - Writing audio in 11 eiffel tower PROCESSEDTEMP_MPY_wvf_snd.mp3\n"
     ]
    },
    {
     "name": "stderr",
     "output_type": "stream",
     "text": [
      "t:  62%|██████▏   | 443/720 [01:35<00:01, 183.26it/s, now=None]"
     ]
    },
    {
     "name": "stdout",
     "output_type": "stream",
     "text": [
      "MoviePy - Done.\n",
      "Moviepy - Writing video processedVideos/11 eiffel tower PROCESSED.mp4\n",
      "\n"
     ]
    },
    {
     "name": "stderr",
     "output_type": "stream",
     "text": [
      "t:  62%|██████▏   | 443/720 [01:56<00:01, 183.26it/s, now=None]"
     ]
    },
    {
     "name": "stdout",
     "output_type": "stream",
     "text": [
      "Moviepy - Done !\n",
      "Moviepy - video ready processedVideos/11 eiffel tower PROCESSED.mp4\n",
      "[0.0]\n",
      "[75]\n",
      "Moviepy - Building video processedVideos/12 eiffel tower PROCESSED.mp4.\n",
      "Moviepy - Writing video processedVideos/12 eiffel tower PROCESSED.mp4\n",
      "\n"
     ]
    },
    {
     "name": "stderr",
     "output_type": "stream",
     "text": [
      "t:  62%|██████▏   | 443/720 [02:06<00:01, 183.26it/s, now=None]"
     ]
    },
    {
     "name": "stdout",
     "output_type": "stream",
     "text": [
      "Moviepy - Done !\n",
      "Moviepy - video ready processedVideos/12 eiffel tower PROCESSED.mp4\n",
      "[0]\n",
      "[59]\n",
      "Moviepy - Building video processedVideos/13 eiffel tower PROCESSED.mp4.\n"
     ]
    },
    {
     "name": "stderr",
     "output_type": "stream",
     "text": [
      "t:  62%|██████▏   | 443/720 [02:06<00:01, 183.26it/s, now=None]"
     ]
    },
    {
     "name": "stdout",
     "output_type": "stream",
     "text": [
      "MoviePy - Writing audio in 13 eiffel tower PROCESSEDTEMP_MPY_wvf_snd.mp3\n"
     ]
    },
    {
     "name": "stderr",
     "output_type": "stream",
     "text": [
      "t:  62%|██████▏   | 443/720 [02:09<00:01, 183.26it/s, now=None]"
     ]
    },
    {
     "name": "stdout",
     "output_type": "stream",
     "text": [
      "MoviePy - Done.\n",
      "Moviepy - Writing video processedVideos/13 eiffel tower PROCESSED.mp4\n",
      "\n"
     ]
    },
    {
     "name": "stderr",
     "output_type": "stream",
     "text": [
      "t:  62%|██████▏   | 443/720 [02:27<00:01, 183.26it/s, now=None]"
     ]
    },
    {
     "name": "stdout",
     "output_type": "stream",
     "text": [
      "Moviepy - Done !\n",
      "Moviepy - video ready processedVideos/13 eiffel tower PROCESSED.mp4\n",
      "[99.0, 106.0, 139.0, 149.0, 154.0, 170.0, 176.0, 181.0, 186.0]\n",
      "[106, 107, 149, 154, 170, 175, 181, 186, 187]\n"
     ]
    },
    {
     "name": "stderr",
     "output_type": "stream",
     "text": [
      "t:  62%|██████▏   | 443/720 [02:27<00:01, 183.26it/s, now=None]"
     ]
    },
    {
     "name": "stdout",
     "output_type": "stream",
     "text": [
      "Moviepy - Building video processedVideos/14 eiffel tower PROCESSED.mp4.\n",
      "Moviepy - Writing video processedVideos/14 eiffel tower PROCESSED.mp4\n",
      "\n"
     ]
    },
    {
     "name": "stderr",
     "output_type": "stream",
     "text": [
      "t:  62%|██████▏   | 443/720 [02:31<00:01, 183.26it/s, now=None]"
     ]
    },
    {
     "name": "stdout",
     "output_type": "stream",
     "text": [
      "Moviepy - Done !\n",
      "Moviepy - video ready processedVideos/14 eiffel tower PROCESSED.mp4\n",
      "[0]\n",
      "[5]\n",
      "Moviepy - Building video processedVideos/15 eiffel tower PROCESSED.mp4.\n",
      "MoviePy - Writing audio in 15 eiffel tower PROCESSEDTEMP_MPY_wvf_snd.mp3\n"
     ]
    },
    {
     "name": "stderr",
     "output_type": "stream",
     "text": [
      "t:  62%|██████▏   | 443/720 [02:31<00:01, 183.26it/s, now=None]"
     ]
    },
    {
     "name": "stdout",
     "output_type": "stream",
     "text": [
      "MoviePy - Done.\n",
      "Moviepy - Writing video processedVideos/15 eiffel tower PROCESSED.mp4\n",
      "\n"
     ]
    },
    {
     "name": "stderr",
     "output_type": "stream",
     "text": [
      "t:  62%|██████▏   | 443/720 [02:32<00:01, 183.26it/s, now=None]"
     ]
    },
    {
     "name": "stdout",
     "output_type": "stream",
     "text": [
      "Moviepy - Done !\n",
      "Moviepy - video ready processedVideos/15 eiffel tower PROCESSED.mp4\n",
      "[0.0, 5.0]\n",
      "[5, 10]\n"
     ]
    },
    {
     "name": "stderr",
     "output_type": "stream",
     "text": [
      "t:  62%|██████▏   | 443/720 [02:32<00:01, 183.26it/s, now=None]"
     ]
    },
    {
     "name": "stdout",
     "output_type": "stream",
     "text": [
      "Moviepy - Building video processedVideos/16 eiffel tower PROCESSED.mp4.\n",
      "Moviepy - Writing video processedVideos/16 eiffel tower PROCESSED.mp4\n",
      "\n"
     ]
    },
    {
     "name": "stderr",
     "output_type": "stream",
     "text": [
      "t:  62%|██████▏   | 443/720 [02:41<00:01, 183.26it/s, now=None]"
     ]
    },
    {
     "name": "stdout",
     "output_type": "stream",
     "text": [
      "Moviepy - Done !\n",
      "Moviepy - video ready processedVideos/16 eiffel tower PROCESSED.mp4\n",
      "[120.0, 122.0, 132.0]\n",
      "[122, 132, 139]\n"
     ]
    },
    {
     "name": "stderr",
     "output_type": "stream",
     "text": [
      "t:  62%|██████▏   | 443/720 [02:42<00:01, 183.26it/s, now=None]"
     ]
    },
    {
     "name": "stdout",
     "output_type": "stream",
     "text": [
      "Moviepy - Building video processedVideos/17 eiffel tower PROCESSED.mp4.\n",
      "Moviepy - Writing video processedVideos/17 eiffel tower PROCESSED.mp4\n",
      "\n"
     ]
    },
    {
     "name": "stderr",
     "output_type": "stream",
     "text": [
      "t:  62%|██████▏   | 443/720 [02:43<00:01, 183.26it/s, now=None]"
     ]
    },
    {
     "name": "stdout",
     "output_type": "stream",
     "text": [
      "Moviepy - Done !\n",
      "Moviepy - video ready processedVideos/17 eiffel tower PROCESSED.mp4\n",
      "[0.0, 36.0]\n",
      "[11, 38]\n"
     ]
    },
    {
     "name": "stderr",
     "output_type": "stream",
     "text": [
      "t:  62%|██████▏   | 443/720 [02:43<00:01, 183.26it/s, now=None]"
     ]
    },
    {
     "name": "stdout",
     "output_type": "stream",
     "text": [
      "Moviepy - Building video processedVideos/19 eiffel tower PROCESSED.mp4.\n",
      "Moviepy - Writing video processedVideos/19 eiffel tower PROCESSED.mp4\n",
      "\n"
     ]
    },
    {
     "name": "stderr",
     "output_type": "stream",
     "text": [
      "t:  62%|██████▏   | 443/720 [02:45<00:01, 183.26it/s, now=None]"
     ]
    },
    {
     "name": "stdout",
     "output_type": "stream",
     "text": [
      "Moviepy - Done !\n",
      "Moviepy - video ready processedVideos/19 eiffel tower PROCESSED.mp4\n",
      "[0.0, 0.0, 7.0, 19.0, 107.0, 141.0, 144.0, 160.0, 165.0, 170.0, 172.0, 174.0, 176.0, 185.0, 186.0, 188.0]\n",
      "[0.0, 7.0, 19.0, 25.0, 114.0, 143.0, 159.0, 165.0, 170.0, 172.0, 174.0, 175.0, 179.0, 186.0, 188.0, 195.0]\n"
     ]
    },
    {
     "name": "stderr",
     "output_type": "stream",
     "text": [
      "t:  62%|██████▏   | 443/720 [02:46<00:01, 183.26it/s, now=None]"
     ]
    },
    {
     "name": "stdout",
     "output_type": "stream",
     "text": [
      "Moviepy - Building video processedVideos/20 eiffel tower PROCESSED.mp4.\n",
      "MoviePy - Writing audio in 20 eiffel tower PROCESSEDTEMP_MPY_wvf_snd.mp3\n"
     ]
    },
    {
     "name": "stderr",
     "output_type": "stream",
     "text": [
      "t:  62%|██████▏   | 443/720 [02:50<00:01, 183.26it/s, now=None]"
     ]
    },
    {
     "name": "stdout",
     "output_type": "stream",
     "text": [
      "MoviePy - Done.\n",
      "Moviepy - Writing video processedVideos/20 eiffel tower PROCESSED.mp4\n",
      "\n"
     ]
    },
    {
     "name": "stderr",
     "output_type": "stream",
     "text": [
      "t:  62%|██████▏   | 443/720 [03:14<00:01, 183.26it/s, now=None]"
     ]
    },
    {
     "name": "stdout",
     "output_type": "stream",
     "text": [
      "Moviepy - Done !\n",
      "Moviepy - video ready processedVideos/20 eiffel tower PROCESSED.mp4\n",
      "[0]\n",
      "[18]\n",
      "Moviepy - Building video processedVideos/21 eiffel tower PROCESSED.mp4.\n",
      "Moviepy - Writing video processedVideos/21 eiffel tower PROCESSED.mp4\n",
      "\n"
     ]
    },
    {
     "name": "stderr",
     "output_type": "stream",
     "text": [
      "t:  62%|██████▏   | 443/720 [03:25<00:01, 183.26it/s, now=None]"
     ]
    },
    {
     "name": "stdout",
     "output_type": "stream",
     "text": [
      "Moviepy - Done !\n",
      "Moviepy - video ready processedVideos/21 eiffel tower PROCESSED.mp4\n",
      "[0]\n",
      "[14]\n"
     ]
    },
    {
     "name": "stderr",
     "output_type": "stream",
     "text": [
      "t:  62%|██████▏   | 443/720 [03:25<00:01, 183.26it/s, now=None]"
     ]
    },
    {
     "name": "stdout",
     "output_type": "stream",
     "text": [
      "Moviepy - Building video processedVideos/22 eiffel tower PROCESSED.mp4.\n",
      "MoviePy - Writing audio in 22 eiffel tower PROCESSEDTEMP_MPY_wvf_snd.mp3\n"
     ]
    },
    {
     "name": "stderr",
     "output_type": "stream",
     "text": [
      "t:  62%|██████▏   | 443/720 [03:26<00:01, 183.26it/s, now=None]"
     ]
    },
    {
     "name": "stdout",
     "output_type": "stream",
     "text": [
      "MoviePy - Done.\n",
      "Moviepy - Writing video processedVideos/22 eiffel tower PROCESSED.mp4\n",
      "\n"
     ]
    },
    {
     "name": "stderr",
     "output_type": "stream",
     "text": [
      "t:  62%|██████▏   | 443/720 [03:32<00:01, 183.26it/s, now=None]"
     ]
    },
    {
     "name": "stdout",
     "output_type": "stream",
     "text": [
      "Moviepy - Done !\n",
      "Moviepy - video ready processedVideos/22 eiffel tower PROCESSED.mp4\n",
      "[0]\n",
      "[5]\n",
      "Moviepy - Building video processedVideos/23 eiffel tower PROCESSED.mp4.\n",
      "MoviePy - Writing audio in 23 eiffel tower PROCESSEDTEMP_MPY_wvf_snd.mp3\n"
     ]
    },
    {
     "name": "stderr",
     "output_type": "stream",
     "text": [
      "t:  62%|██████▏   | 443/720 [03:32<00:01, 183.26it/s, now=None]"
     ]
    },
    {
     "name": "stdout",
     "output_type": "stream",
     "text": [
      "MoviePy - Done.\n",
      "Moviepy - Writing video processedVideos/23 eiffel tower PROCESSED.mp4\n",
      "\n"
     ]
    },
    {
     "name": "stderr",
     "output_type": "stream",
     "text": [
      "t:  62%|██████▏   | 443/720 [03:33<00:01, 183.26it/s, now=None]"
     ]
    },
    {
     "name": "stdout",
     "output_type": "stream",
     "text": [
      "Moviepy - Done !\n",
      "Moviepy - video ready processedVideos/23 eiffel tower PROCESSED.mp4\n",
      "[29.0, 38.0, 42.0]\n",
      "[38, 42, 57]\n"
     ]
    },
    {
     "name": "stderr",
     "output_type": "stream",
     "text": [
      "t:  62%|██████▏   | 443/720 [03:33<00:01, 183.26it/s, now=None]"
     ]
    },
    {
     "name": "stdout",
     "output_type": "stream",
     "text": [
      "Moviepy - Building video processedVideos/24 eiffel tower PROCESSED.mp4.\n",
      "Moviepy - Writing video processedVideos/24 eiffel tower PROCESSED.mp4\n",
      "\n"
     ]
    },
    {
     "name": "stderr",
     "output_type": "stream",
     "text": [
      "t:  62%|██████▏   | 443/720 [03:36<00:01, 183.26it/s, now=None]"
     ]
    },
    {
     "name": "stdout",
     "output_type": "stream",
     "text": [
      "Moviepy - Done !\n",
      "Moviepy - video ready processedVideos/24 eiffel tower PROCESSED.mp4\n",
      "[3.0, 14.0]\n",
      "[9, 17]\n"
     ]
    },
    {
     "name": "stderr",
     "output_type": "stream",
     "text": [
      "t:  62%|██████▏   | 443/720 [03:37<00:01, 183.26it/s, now=None]"
     ]
    },
    {
     "name": "stdout",
     "output_type": "stream",
     "text": [
      "Moviepy - Building video processedVideos/25 eiffel tower PROCESSED.mp4.\n",
      "Moviepy - Writing video processedVideos/25 eiffel tower PROCESSED.mp4\n",
      "\n"
     ]
    },
    {
     "name": "stderr",
     "output_type": "stream",
     "text": [
      "t:  62%|██████▏   | 443/720 [03:41<00:01, 183.26it/s, now=None]"
     ]
    },
    {
     "name": "stdout",
     "output_type": "stream",
     "text": [
      "Moviepy - Done !\n",
      "Moviepy - video ready processedVideos/25 eiffel tower PROCESSED.mp4\n",
      "[0]\n",
      "[36]\n",
      "Moviepy - Building video processedVideos/28 eiffel tower PROCESSED.mp4.\n",
      "Moviepy - Writing video processedVideos/28 eiffel tower PROCESSED.mp4\n",
      "\n"
     ]
    },
    {
     "name": "stderr",
     "output_type": "stream",
     "text": [
      "t:  62%|██████▏   | 443/720 [03:51<00:01, 183.26it/s, now=None]"
     ]
    },
    {
     "name": "stdout",
     "output_type": "stream",
     "text": [
      "Moviepy - Done !\n",
      "Moviepy - video ready processedVideos/28 eiffel tower PROCESSED.mp4\n",
      "[0.0, 6.0]\n",
      "[6, 14]\n"
     ]
    },
    {
     "name": "stderr",
     "output_type": "stream",
     "text": [
      "t:  62%|██████▏   | 443/720 [03:51<00:01, 183.26it/s, now=None]"
     ]
    },
    {
     "name": "stdout",
     "output_type": "stream",
     "text": [
      "Moviepy - Building video processedVideos/29 eiffel tower PROCESSED.mp4.\n",
      "MoviePy - Writing audio in 29 eiffel tower PROCESSEDTEMP_MPY_wvf_snd.mp3\n"
     ]
    },
    {
     "name": "stderr",
     "output_type": "stream",
     "text": [
      "t:  62%|██████▏   | 443/720 [03:51<00:01, 183.26it/s, now=None]"
     ]
    },
    {
     "name": "stdout",
     "output_type": "stream",
     "text": [
      "MoviePy - Done.\n",
      "Moviepy - Writing video processedVideos/29 eiffel tower PROCESSED.mp4\n",
      "\n"
     ]
    },
    {
     "name": "stderr",
     "output_type": "stream",
     "text": [
      "t:  62%|██████▏   | 443/720 [03:56<00:01, 183.26it/s, now=None]"
     ]
    },
    {
     "name": "stdout",
     "output_type": "stream",
     "text": [
      "Moviepy - Done !\n",
      "Moviepy - video ready processedVideos/29 eiffel tower PROCESSED.mp4\n",
      "[0.0, 11.0]\n",
      "[11, 54]\n"
     ]
    },
    {
     "name": "stderr",
     "output_type": "stream",
     "text": [
      "t:  62%|██████▏   | 443/720 [03:57<00:01, 183.26it/s, now=None]"
     ]
    },
    {
     "name": "stdout",
     "output_type": "stream",
     "text": [
      "Moviepy - Building video processedVideos/30 eiffel tower PROCESSED.mp4.\n",
      "MoviePy - Writing audio in 30 eiffel tower PROCESSEDTEMP_MPY_wvf_snd.mp3\n"
     ]
    },
    {
     "name": "stderr",
     "output_type": "stream",
     "text": [
      "t:  62%|██████▏   | 443/720 [03:58<00:01, 183.26it/s, now=None]"
     ]
    },
    {
     "name": "stdout",
     "output_type": "stream",
     "text": [
      "MoviePy - Done.\n",
      "Moviepy - Writing video processedVideos/30 eiffel tower PROCESSED.mp4\n",
      "\n"
     ]
    },
    {
     "name": "stderr",
     "output_type": "stream",
     "text": [
      "t:  62%|██████▏   | 443/720 [04:03<00:01, 183.26it/s, now=None]"
     ]
    },
    {
     "name": "stdout",
     "output_type": "stream",
     "text": [
      "Moviepy - Done !\n",
      "Moviepy - video ready processedVideos/30 eiffel tower PROCESSED.mp4\n",
      "[0.0, 49.0]\n",
      "[49, 60]\n"
     ]
    },
    {
     "name": "stderr",
     "output_type": "stream",
     "text": [
      "t:  62%|██████▏   | 443/720 [04:04<00:01, 183.26it/s, now=None]"
     ]
    },
    {
     "name": "stdout",
     "output_type": "stream",
     "text": [
      "Moviepy - Building video processedVideos/32 eiffel tower PROCESSED.mp4.\n",
      "MoviePy - Writing audio in 32 eiffel tower PROCESSEDTEMP_MPY_wvf_snd.mp3\n"
     ]
    },
    {
     "name": "stderr",
     "output_type": "stream",
     "text": [
      "t:  62%|██████▏   | 443/720 [04:06<00:01, 183.26it/s, now=None]"
     ]
    },
    {
     "name": "stdout",
     "output_type": "stream",
     "text": [
      "MoviePy - Done.\n",
      "Moviepy - Writing video processedVideos/32 eiffel tower PROCESSED.mp4\n",
      "\n"
     ]
    },
    {
     "name": "stderr",
     "output_type": "stream",
     "text": [
      "t:  62%|██████▏   | 443/720 [04:20<00:01, 183.26it/s, now=None]"
     ]
    },
    {
     "name": "stdout",
     "output_type": "stream",
     "text": [
      "Moviepy - Done !\n",
      "Moviepy - video ready processedVideos/32 eiffel tower PROCESSED.mp4\n",
      "[0]\n",
      "[14]\n",
      "Moviepy - Building video processedVideos/33 eiffel tower PROCESSED.mp4.\n",
      "MoviePy - Writing audio in 33 eiffel tower PROCESSEDTEMP_MPY_wvf_snd.mp3\n"
     ]
    },
    {
     "name": "stderr",
     "output_type": "stream",
     "text": [
      "t:  62%|██████▏   | 443/720 [04:21<00:01, 183.26it/s, now=None]"
     ]
    },
    {
     "name": "stdout",
     "output_type": "stream",
     "text": [
      "MoviePy - Done.\n",
      "Moviepy - Writing video processedVideos/33 eiffel tower PROCESSED.mp4\n",
      "\n"
     ]
    },
    {
     "name": "stderr",
     "output_type": "stream",
     "text": [
      "t:  62%|██████▏   | 443/720 [04:26<00:01, 183.26it/s, now=None]"
     ]
    },
    {
     "name": "stdout",
     "output_type": "stream",
     "text": [
      "Moviepy - Done !\n",
      "Moviepy - video ready processedVideos/33 eiffel tower PROCESSED.mp4\n",
      "[3.0, 6.0, 9.0, 12.0, 15.0, 21.0, 24.0, 57.0, 60.0]\n",
      "[5, 8, 11, 14, 17, 23, 26, 59, 62]\n"
     ]
    },
    {
     "name": "stderr",
     "output_type": "stream",
     "text": [
      "t:  62%|██████▏   | 443/720 [04:27<00:01, 183.26it/s, now=None]"
     ]
    },
    {
     "name": "stdout",
     "output_type": "stream",
     "text": [
      "Moviepy - Building video processedVideos/34 eiffel tower PROCESSED.mp4.\n",
      "Moviepy - Writing video processedVideos/34 eiffel tower PROCESSED.mp4\n",
      "\n"
     ]
    },
    {
     "name": "stderr",
     "output_type": "stream",
     "text": [
      "t:  62%|██████▏   | 443/720 [04:31<00:01, 183.26it/s, now=None]"
     ]
    },
    {
     "name": "stdout",
     "output_type": "stream",
     "text": [
      "Moviepy - Done !\n",
      "Moviepy - video ready processedVideos/34 eiffel tower PROCESSED.mp4\n",
      "[0.0, 30.0, 38.0]\n",
      "[30, 38, 55]\n"
     ]
    },
    {
     "name": "stderr",
     "output_type": "stream",
     "text": [
      "t:  62%|██████▏   | 443/720 [04:31<00:01, 183.26it/s, now=None]"
     ]
    },
    {
     "name": "stdout",
     "output_type": "stream",
     "text": [
      "Moviepy - Building video processedVideos/35 eiffel tower PROCESSED.mp4.\n",
      "MoviePy - Writing audio in 35 eiffel tower PROCESSEDTEMP_MPY_wvf_snd.mp3\n"
     ]
    },
    {
     "name": "stderr",
     "output_type": "stream",
     "text": [
      "t:  62%|██████▏   | 443/720 [04:33<00:01, 183.26it/s, now=None]"
     ]
    },
    {
     "name": "stdout",
     "output_type": "stream",
     "text": [
      "MoviePy - Done.\n",
      "Moviepy - Writing video processedVideos/35 eiffel tower PROCESSED.mp4\n",
      "\n"
     ]
    },
    {
     "name": "stderr",
     "output_type": "stream",
     "text": [
      "t:  62%|██████▏   | 443/720 [04:38<00:01, 183.26it/s, now=None]"
     ]
    },
    {
     "name": "stdout",
     "output_type": "stream",
     "text": [
      "Moviepy - Done !\n",
      "Moviepy - video ready processedVideos/35 eiffel tower PROCESSED.mp4\n",
      "[0.0, 2.0]\n",
      "[2, 14]\n"
     ]
    },
    {
     "name": "stderr",
     "output_type": "stream",
     "text": [
      "t:  62%|██████▏   | 443/720 [04:38<00:01, 183.26it/s, now=None]"
     ]
    },
    {
     "name": "stdout",
     "output_type": "stream",
     "text": [
      "Moviepy - Building video processedVideos/36 eiffel tower PROCESSED.mp4.\n",
      "MoviePy - Writing audio in 36 eiffel tower PROCESSEDTEMP_MPY_wvf_snd.mp3\n"
     ]
    },
    {
     "name": "stderr",
     "output_type": "stream",
     "text": [
      "t:  62%|██████▏   | 443/720 [04:38<00:01, 183.26it/s, now=None]"
     ]
    },
    {
     "name": "stdout",
     "output_type": "stream",
     "text": [
      "MoviePy - Done.\n",
      "Moviepy - Writing video processedVideos/36 eiffel tower PROCESSED.mp4\n",
      "\n"
     ]
    },
    {
     "name": "stderr",
     "output_type": "stream",
     "text": [
      "t:  62%|██████▏   | 443/720 [04:42<00:01, 183.26it/s, now=None]"
     ]
    },
    {
     "name": "stdout",
     "output_type": "stream",
     "text": [
      "Moviepy - Done !\n",
      "Moviepy - video ready processedVideos/36 eiffel tower PROCESSED.mp4\n",
      "[0]\n",
      "[19]\n",
      "Moviepy - Building video processedVideos/37 eiffel tower PROCESSED.mp4.\n",
      "Moviepy - Writing video processedVideos/37 eiffel tower PROCESSED.mp4\n",
      "\n"
     ]
    },
    {
     "name": "stderr",
     "output_type": "stream",
     "text": [
      "t:  62%|██████▏   | 443/720 [04:49<00:01, 183.26it/s, now=None]"
     ]
    },
    {
     "name": "stdout",
     "output_type": "stream",
     "text": [
      "Moviepy - Done !\n",
      "Moviepy - video ready processedVideos/37 eiffel tower PROCESSED.mp4\n",
      "[0]\n",
      "[7]\n",
      "Moviepy - Building video processedVideos/38 eiffel tower PROCESSED.mp4.\n",
      "Moviepy - Writing video processedVideos/38 eiffel tower PROCESSED.mp4\n",
      "\n"
     ]
    },
    {
     "name": "stderr",
     "output_type": "stream",
     "text": [
      "t:  62%|██████▏   | 443/720 [04:54<00:01, 183.26it/s, now=None]"
     ]
    },
    {
     "name": "stdout",
     "output_type": "stream",
     "text": [
      "Moviepy - Done !\n",
      "Moviepy - video ready processedVideos/38 eiffel tower PROCESSED.mp4\n",
      "[0]\n",
      "[15]\n",
      "Moviepy - Building video processedVideos/39 eiffel tower PROCESSED.mp4.\n",
      "MoviePy - Writing audio in 39 eiffel tower PROCESSEDTEMP_MPY_wvf_snd.mp3\n"
     ]
    },
    {
     "name": "stderr",
     "output_type": "stream",
     "text": [
      "t:  62%|██████▏   | 443/720 [04:54<00:01, 183.26it/s, now=None]"
     ]
    },
    {
     "name": "stdout",
     "output_type": "stream",
     "text": [
      "MoviePy - Done.\n",
      "Moviepy - Writing video processedVideos/39 eiffel tower PROCESSED.mp4\n",
      "\n"
     ]
    },
    {
     "name": "stderr",
     "output_type": "stream",
     "text": [
      "t:  62%|██████▏   | 443/720 [04:57<00:01, 183.26it/s, now=None]"
     ]
    },
    {
     "name": "stdout",
     "output_type": "stream",
     "text": [
      "Moviepy - Done !\n",
      "Moviepy - video ready processedVideos/39 eiffel tower PROCESSED.mp4\n"
     ]
    }
   ],
   "source": [
    "from moviepy.editor import VideoFileClip, concatenate_videoclips\n",
    "import pandas as pd\n",
    "import json\n",
    "\n",
    "\n",
    "pickleFileName = 0\n",
    "fileName = 0\n",
    "objectString = 'eiffel tower'\n",
    "\n",
    "\n",
    "for x in range(39):\n",
    "    \n",
    "    pickleFileName +=1\n",
    "    fileName +=1\n",
    "\n",
    "    f = open(f'../video/output/{fileName}.json')\n",
    "\n",
    "    with open(f'../video/output/{fileName}.json') as data_file:    \n",
    "        data = json.load(data_file)  \n",
    "\n",
    "    # Getting shot_label_annotations array:\n",
    "    h = data['annotation_results'][0]['shot_label_annotations']#[1]['segments']\n",
    "    segments = pd.json_normalize(h, record_path=['segments'], meta=[['entity','description']], errors='ignore')\n",
    "\n",
    "    df = pd.DataFrame(segments)\n",
    "\n",
    "    newdf = pd.DataFrame()\n",
    "\n",
    "    #Checking if columns exist\n",
    "    if 'entity.description' not in df:\n",
    "        df['entity.description'] = 0\n",
    "\n",
    "    if 'segment.start_time_offset.seconds' not in df:\n",
    "        df['segment.start_time_offset.seconds'] = 0\n",
    "\n",
    "    if 'segment.end_time_offset.seconds' not in df:\n",
    "        df['segment.end_time_offset.seconds'] = 0\n",
    "\n",
    "    # Replacing NA values\n",
    "    df['entity.description'] = df['entity.description'].fillna(0)\n",
    "    df['segment.start_time_offset.seconds'] = df['segment.start_time_offset.seconds'].fillna(0)\n",
    "    df['segment.end_time_offset.seconds'] = df['segment.end_time_offset.seconds'].fillna(0)\n",
    "\n",
    "    # Adding Duration from start to end\n",
    "    df['time_start_to_end'] = df['segment.start_time_offset.seconds'] - df['segment.end_time_offset.seconds']\n",
    "\n",
    "    #Getting Confidence as Numpy Float (numpy.float64)\n",
    "    df['confidence'] = df['confidence'].astype(float)\n",
    "\n",
    "    #Gets only rows matching desired object string\n",
    "    entityRows = df.loc[df['entity.description'] == objectString.casefold()]\n",
    "\n",
    "    #Checks if desired object string is present\n",
    "    if len(entityRows) == 0:\n",
    "        continue\n",
    "        \n",
    "\n",
    "    startVals = entityRows['segment.start_time_offset.seconds'].tolist()\n",
    "    endVals = entityRows['segment.end_time_offset.seconds'].tolist()\n",
    "\n",
    "    print(startVals)\n",
    "    print(endVals)\n",
    "    \n",
    "    clip = VideoFileClip(f\"downloads/{fileName}.mp4\")\n",
    "    clipsArray = []\n",
    "\n",
    "    for count, x in enumerate(startVals, 0) :\n",
    "        newclip = clip.subclip(startVals[count], endVals[count])\n",
    "        clipsArray.append(newclip)\n",
    "\n",
    "    finalClip = concatenate_videoclips(clipsArray)\n",
    "\n",
    "    finalClip.write_videofile(f\"processedVideos/{pickleFileName} {objectString} PROCESSED.mp4\")\n",
    "\n",
    "    \n",
    "\n"
   ]
  }
 ],
 "metadata": {
  "interpreter": {
   "hash": "0adcc2737ebf6a4a119f135174df96668767fca1ef1112612db5ecadf2b6d608"
  },
  "kernelspec": {
   "display_name": "Python 3.8.5 64-bit",
   "language": "python",
   "name": "python3"
  },
  "language_info": {
   "codemirror_mode": {
    "name": "ipython",
    "version": 3
   },
   "file_extension": ".py",
   "mimetype": "text/x-python",
   "name": "python",
   "nbconvert_exporter": "python",
   "pygments_lexer": "ipython3",
   "version": "3.10.4"
  },
  "orig_nbformat": 4
 },
 "nbformat": 4,
 "nbformat_minor": 2
}
