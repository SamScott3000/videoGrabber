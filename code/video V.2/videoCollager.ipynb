{
 "cells": [
  {
   "cell_type": "code",
   "execution_count": 1,
   "metadata": {},
   "outputs": [],
   "source": [
    "import numpy as np\n",
    "import cv2\n",
    "\n",
    "names = ['1.mp4', '2.mp4']\n",
    "window_titles = ['1', '2']\n",
    "\n",
    "cap = [cv2.VideoCapture(i) for i in names]\n",
    "\n",
    "frames = [None] * len(names);\n",
    "ret = [None] * len(names);\n",
    "\n",
    "while True:\n",
    "\n",
    "    for i,c in enumerate(cap):\n",
    "        if c is not None:\n",
    "            ret[i], frames[i] = c.read();\n",
    "\n",
    "    for i,f in enumerate(frames):\n",
    "        if ret[i] is True:\n",
    "            cv2.imshow(window_titles[i], frames[i]);\n",
    "\n",
    "    if cv2.waitKey(1) & 0xFF == ord('q'):\n",
    "       break\n",
    "\n",
    "\n",
    "for c in cap:\n",
    "    if c is not None:\n",
    "        c.release();\n",
    "\n",
    "cv2.destroyAllWindows()\n",
    "\n",
    "\n",
    "\n"
   ]
  }
 ],
 "metadata": {
  "interpreter": {
   "hash": "aee8b7b246df8f9039afb4144a1f6fd8d2ca17a180786b69acc140d282b71a49"
  },
  "kernelspec": {
   "display_name": "Python 3.10.4 64-bit",
   "language": "python",
   "name": "python3"
  },
  "language_info": {
   "codemirror_mode": {
    "name": "ipython",
    "version": 3
   },
   "file_extension": ".py",
   "mimetype": "text/x-python",
   "name": "python",
   "nbconvert_exporter": "python",
   "pygments_lexer": "ipython3",
   "version": "3.10.4"
  },
  "orig_nbformat": 4
 },
 "nbformat": 4,
 "nbformat_minor": 2
}
