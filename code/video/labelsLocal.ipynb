{
 "cells": [
  {
   "cell_type": "code",
   "execution_count": 15,
   "metadata": {},
   "outputs": [
    {
     "name": "stdout",
     "output_type": "stream",
     "text": [
      "7\n",
      "\n",
      "Processing video for label annotations:\n"
     ]
    },
    {
     "ename": "AttributeError",
     "evalue": "Unknown field for AnnotateVideoResponse: serialize",
     "output_type": "error",
     "traceback": [
      "\u001b[0;31m---------------------------------------------------------------------------\u001b[0m",
      "\u001b[0;31mAttributeError\u001b[0m                            Traceback (most recent call last)",
      "\u001b[1;32m/Users/samscott/videoGrabber/code/video/labelsLocal.ipynb Cell 1'\u001b[0m in \u001b[0;36m<cell line: 23>\u001b[0;34m()\u001b[0m\n\u001b[1;32m     <a href='vscode-notebook-cell:/Users/samscott/videoGrabber/code/video/labelsLocal.ipynb#ch0000000?line=33'>34</a>\u001b[0m \u001b[39mprint\u001b[39m(\u001b[39m\"\u001b[39m\u001b[39m\\n\u001b[39;00m\u001b[39mProcessing video for label annotations:\u001b[39m\u001b[39m\"\u001b[39m)\n\u001b[1;32m     <a href='vscode-notebook-cell:/Users/samscott/videoGrabber/code/video/labelsLocal.ipynb#ch0000000?line=35'>36</a>\u001b[0m result \u001b[39m=\u001b[39m operation\u001b[39m.\u001b[39mresult(timeout\u001b[39m=\u001b[39m\u001b[39m90\u001b[39m)\n\u001b[0;32m---> <a href='vscode-notebook-cell:/Users/samscott/videoGrabber/code/video/labelsLocal.ipynb#ch0000000?line=36'>37</a>\u001b[0m serialized \u001b[39m=\u001b[39m result\u001b[39m.\u001b[39;49mserialize()\n\u001b[1;32m     <a href='vscode-notebook-cell:/Users/samscott/videoGrabber/code/video/labelsLocal.ipynb#ch0000000?line=37'>38</a>\u001b[0m \u001b[39m#a = json.loads(serialized)\u001b[39;00m\n\u001b[1;32m     <a href='vscode-notebook-cell:/Users/samscott/videoGrabber/code/video/labelsLocal.ipynb#ch0000000?line=38'>39</a>\u001b[0m \u001b[39m#type(a)\u001b[39;00m\n\u001b[1;32m     <a href='vscode-notebook-cell:/Users/samscott/videoGrabber/code/video/labelsLocal.ipynb#ch0000000?line=39'>40</a>\u001b[0m \u001b[39m#print(result, file=open(f'{output_path_json}{count}.json', \"a\"))\u001b[39;00m\n\u001b[1;32m     <a href='vscode-notebook-cell:/Users/samscott/videoGrabber/code/video/labelsLocal.ipynb#ch0000000?line=40'>41</a>\u001b[0m \n\u001b[1;32m     <a href='vscode-notebook-cell:/Users/samscott/videoGrabber/code/video/labelsLocal.ipynb#ch0000000?line=41'>42</a>\u001b[0m \u001b[39m#with open(f'{output_path_json}{count}.json', 'w', encoding='utf-8') as f:\u001b[39;00m\n\u001b[1;32m     <a href='vscode-notebook-cell:/Users/samscott/videoGrabber/code/video/labelsLocal.ipynb#ch0000000?line=42'>43</a>\u001b[0m \u001b[39m#    json.dump(segment_labels, f, ensure_ascii=False, indent=4)\u001b[39;00m\n\u001b[1;32m     <a href='vscode-notebook-cell:/Users/samscott/videoGrabber/code/video/labelsLocal.ipynb#ch0000000?line=44'>45</a>\u001b[0m \u001b[39mprint\u001b[39m(\u001b[39m\"\u001b[39m\u001b[39m\\n\u001b[39;00m\u001b[39mFinished processing.\u001b[39m\u001b[39m\"\u001b[39m)\n",
      "File \u001b[0;32m~/videoGrabber/env/lib/python3.10/site-packages/proto/message.py:707\u001b[0m, in \u001b[0;36mMessage.__getattr__\u001b[0;34m(self, key)\u001b[0m\n\u001b[1;32m    <a href='file:///Users/samscott/videoGrabber/env/lib/python3.10/site-packages/proto/message.py?line=704'>705</a>\u001b[0m (key, pb_type) \u001b[39m=\u001b[39m \u001b[39mself\u001b[39m\u001b[39m.\u001b[39m_get_pb_type_from_key(key)\n\u001b[1;32m    <a href='file:///Users/samscott/videoGrabber/env/lib/python3.10/site-packages/proto/message.py?line=705'>706</a>\u001b[0m \u001b[39mif\u001b[39;00m pb_type \u001b[39mis\u001b[39;00m \u001b[39mNone\u001b[39;00m:\n\u001b[0;32m--> <a href='file:///Users/samscott/videoGrabber/env/lib/python3.10/site-packages/proto/message.py?line=706'>707</a>\u001b[0m     \u001b[39mraise\u001b[39;00m \u001b[39mAttributeError\u001b[39;00m(\n\u001b[1;32m    <a href='file:///Users/samscott/videoGrabber/env/lib/python3.10/site-packages/proto/message.py?line=707'>708</a>\u001b[0m         \u001b[39m\"\u001b[39m\u001b[39mUnknown field for \u001b[39m\u001b[39m{}\u001b[39;00m\u001b[39m: \u001b[39m\u001b[39m{}\u001b[39;00m\u001b[39m\"\u001b[39m\u001b[39m.\u001b[39mformat(\u001b[39mself\u001b[39m\u001b[39m.\u001b[39m\u001b[39m__class__\u001b[39m\u001b[39m.\u001b[39m\u001b[39m__name__\u001b[39m, key)\n\u001b[1;32m    <a href='file:///Users/samscott/videoGrabber/env/lib/python3.10/site-packages/proto/message.py?line=708'>709</a>\u001b[0m     )\n\u001b[1;32m    <a href='file:///Users/samscott/videoGrabber/env/lib/python3.10/site-packages/proto/message.py?line=709'>710</a>\u001b[0m pb_value \u001b[39m=\u001b[39m \u001b[39mgetattr\u001b[39m(\u001b[39mself\u001b[39m\u001b[39m.\u001b[39m_pb, key)\n\u001b[1;32m    <a href='file:///Users/samscott/videoGrabber/env/lib/python3.10/site-packages/proto/message.py?line=710'>711</a>\u001b[0m marshal \u001b[39m=\u001b[39m \u001b[39mself\u001b[39m\u001b[39m.\u001b[39m_meta\u001b[39m.\u001b[39mmarshal\n",
      "\u001b[0;31mAttributeError\u001b[0m: Unknown field for AnnotateVideoResponse: serialize"
     ]
    }
   ],
   "source": [
    "import io\n",
    "import argparse\n",
    "\n",
    "from google.protobuf.json_format import MessageToJson\n",
    "import json\n",
    "from google.cloud import videointelligence\n",
    "\n",
    "\"\"\"Detect labels given a file path.\"\"\"\n",
    "video_client = videointelligence.VideoIntelligenceServiceClient()\n",
    "features = [videointelligence.Feature.LABEL_DETECTION]\n",
    "\n",
    "mode = videointelligence.LabelDetectionMode.SHOT_AND_FRAME_MODE\n",
    "config = videointelligence.LabelDetectionConfig(label_detection_mode=mode)\n",
    "context = videointelligence.VideoContext(label_detection_config=config)\n",
    "\n",
    "input_path = \"downloads/\"\n",
    "output_path = \"processedVideos/\"\n",
    "output_path_json = \"output/\"\n",
    "\n",
    "\n",
    "count = 7\n",
    "\n",
    "for x in range(4):#input_path:\n",
    "\n",
    "    print(count)\n",
    "\n",
    "    with io.open(f\"{input_path}{count}.mp4\", \"rb\") as movie:\n",
    "        input_content = movie.read()\n",
    "\n",
    "    operation = video_client.annotate_video(\n",
    "        request={\"features\": features, \"input_content\": input_content, \"video_context\": context}\n",
    "    )\n",
    "    \n",
    "    print(\"\\nProcessing video for label annotations:\")\n",
    "\n",
    "    result = operation.result(timeout=90)\n",
    "    serialized = result.serialize()\n",
    "    #a = json.loads(serialized)\n",
    "    #type(a)\n",
    "    #print(result, file=open(f'{output_path_json}{count}.json', \"a\"))\n",
    "\n",
    "    #with open(f'{output_path_json}{count}.json', 'w', encoding='utf-8') as f:\n",
    "    #    json.dump(segment_labels, f, ensure_ascii=False, indent=4)\n",
    "\n",
    "    print(\"\\nFinished processing.\")\n",
    "    count += 1\n"
   ]
  }
 ],
 "metadata": {
  "interpreter": {
   "hash": "86385be851996a9f029e3148a618f871c5db7194ce6c44398b35b6d41017964b"
  },
  "kernelspec": {
   "display_name": "Python 3.10.4 ('env': venv)",
   "language": "python",
   "name": "python3"
  },
  "language_info": {
   "codemirror_mode": {
    "name": "ipython",
    "version": 3
   },
   "file_extension": ".py",
   "mimetype": "text/x-python",
   "name": "python",
   "nbconvert_exporter": "python",
   "pygments_lexer": "ipython3",
   "version": "3.10.4"
  },
  "orig_nbformat": 4
 },
 "nbformat": 4,
 "nbformat_minor": 2
}
