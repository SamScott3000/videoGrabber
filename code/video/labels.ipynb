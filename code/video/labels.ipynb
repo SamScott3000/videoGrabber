{
 "cells": [
  {
   "cell_type": "code",
   "execution_count": 5,
   "metadata": {},
   "outputs": [
    {
     "ename": "ModuleNotFoundError",
     "evalue": "No module named 'google'",
     "output_type": "error",
     "traceback": [
      "\u001b[0;31m---------------------------------------------------------------------------\u001b[0m",
      "\u001b[0;31mModuleNotFoundError\u001b[0m                       Traceback (most recent call last)",
      "\u001b[1;32m/Users/samscott/videoGrabber/code/video/labels.ipynb Cell 1'\u001b[0m in \u001b[0;36m<cell line: 1>\u001b[0;34m()\u001b[0m\n\u001b[0;32m----> <a href='vscode-notebook-cell:/Users/samscott/videoGrabber/code/video/labels.ipynb#ch0000000?line=0'>1</a>\u001b[0m \u001b[39mfrom\u001b[39;00m \u001b[39mgoogle\u001b[39;00m\u001b[39m.\u001b[39;00m\u001b[39mcloud\u001b[39;00m \u001b[39mimport\u001b[39;00m videointelligence\n\u001b[1;32m      <a href='vscode-notebook-cell:/Users/samscott/videoGrabber/code/video/labels.ipynb#ch0000000?line=2'>3</a>\u001b[0m \u001b[39m\"\"\"Detects labels given a GCS path.\"\"\"\u001b[39;00m\n\u001b[1;32m      <a href='vscode-notebook-cell:/Users/samscott/videoGrabber/code/video/labels.ipynb#ch0000000?line=3'>4</a>\u001b[0m video_client \u001b[39m=\u001b[39m videointelligence\u001b[39m.\u001b[39mVideoIntelligenceServiceClient()\n",
      "\u001b[0;31mModuleNotFoundError\u001b[0m: No module named 'google'"
     ]
    }
   ],
   "source": [
    "from google.cloud import videointelligence\n",
    "\n",
    "\"\"\"Detects labels given a GCS path.\"\"\"\n",
    "video_client = videointelligence.VideoIntelligenceServiceClient()\n",
    "features = [videointelligence.Feature.LABEL_DETECTION]\n",
    "\n",
    "mode = videointelligence.LabelDetectionMode.SHOT_AND_FRAME_MODE\n",
    "config = videointelligence.LabelDetectionConfig(label_detection_mode=mode)\n",
    "context = videointelligence.VideoContext(label_detection_config=config)\n",
    "\n",
    "operation = video_client.annotate_video(\n",
    "    request={\"features\": features, \"input_uri\": 'gs://sentiment-classification-test/video/tower/4.pm4', \"video_context\": context}\n",
    ")\n",
    "print(\"\\nProcessing video for label annotations:\")\n",
    "\n",
    "result = operation.result(timeout=180)\n",
    "print(\"\\nFinished processing.\")\n"
   ]
  }
 ],
 "metadata": {
  "interpreter": {
   "hash": "0adcc2737ebf6a4a119f135174df96668767fca1ef1112612db5ecadf2b6d608"
  },
  "kernelspec": {
   "display_name": "Python 3.8.5 64-bit",
   "language": "python",
   "name": "python3"
  },
  "language_info": {
   "codemirror_mode": {
    "name": "ipython",
    "version": 3
   },
   "file_extension": ".py",
   "mimetype": "text/x-python",
   "name": "python",
   "nbconvert_exporter": "python",
   "pygments_lexer": "ipython3",
   "version": "3.10.4"
  },
  "orig_nbformat": 4
 },
 "nbformat": 4,
 "nbformat_minor": 2
}
