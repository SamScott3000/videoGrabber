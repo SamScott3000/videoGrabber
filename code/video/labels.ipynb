{
 "cells": [
  {
   "cell_type": "code",
   "execution_count": 5,
   "metadata": {},
   "outputs": [
    {
     "name": "stdout",
     "output_type": "stream",
     "text": [
      "2\n",
      "0\n",
      "\n",
      "Processing video for label annotations:\n",
      "\n",
      "Finished processing.\n",
      "3\n",
      "1\n",
      "\n",
      "Processing video for label annotations:\n",
      "\n",
      "Finished processing.\n",
      "4\n",
      "2\n",
      "\n",
      "Processing video for label annotations:\n",
      "\n",
      "Finished processing.\n",
      "5\n",
      "3\n",
      "\n",
      "Processing video for label annotations:\n",
      "\n",
      "Finished processing.\n",
      "6\n",
      "4\n",
      "\n",
      "Processing video for label annotations:\n",
      "\n",
      "Finished processing.\n",
      "7\n",
      "5\n",
      "\n",
      "Processing video for label annotations:\n",
      "\n",
      "Finished processing.\n"
     ]
    }
   ],
   "source": [
    "from google.cloud import videointelligence\n",
    "\n",
    "\"\"\"Detects labels given a GCS path.\"\"\"\n",
    "video_client = videointelligence.VideoIntelligenceServiceClient()\n",
    "features = [videointelligence.Feature.LABEL_DETECTION]\n",
    "\n",
    "mode = videointelligence.LabelDetectionMode.SHOT_AND_FRAME_MODE\n",
    "config = videointelligence.LabelDetectionConfig(label_detection_mode=mode)\n",
    "context = videointelligence.VideoContext(label_detection_config=config)\n",
    "\n",
    "\n",
    "count = 1\n",
    "for x in range(6):\n",
    "    operation = video_client.annotate_video(\n",
    "        request={\"features\": features, \"input_uri\": f'gs://sentiment-classification-test/video/tower/{count}.mp4', \"video_context\": context, \"output_uri\": f'gs://sentiment-classification-test/video/tower/{count}.json'}\n",
    "    )\n",
    "    count += 1\n",
    "    print(count)\n",
    "    print(x)\n",
    "\n",
    "    print(\"\\nProcessing video for label annotations:\")\n",
    "\n",
    "    result = operation.result(timeout=180)\n",
    "    print(\"\\nFinished processing.\")\n"
   ]
  }
 ],
 "metadata": {
  "interpreter": {
   "hash": "0adcc2737ebf6a4a119f135174df96668767fca1ef1112612db5ecadf2b6d608"
  },
  "kernelspec": {
   "display_name": "Python 3.8.5 64-bit",
   "language": "python",
   "name": "python3"
  },
  "language_info": {
   "codemirror_mode": {
    "name": "ipython",
    "version": 3
   },
   "file_extension": ".py",
   "mimetype": "text/x-python",
   "name": "python",
   "nbconvert_exporter": "python",
   "pygments_lexer": "ipython3",
   "version": "3.10.4"
  },
  "orig_nbformat": 4
 },
 "nbformat": 4,
 "nbformat_minor": 2
}
