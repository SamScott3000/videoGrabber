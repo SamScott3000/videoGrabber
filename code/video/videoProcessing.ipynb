{
 "cells": [
  {
   "cell_type": "code",
   "execution_count": 13,
   "metadata": {},
   "outputs": [
    {
     "name": "stdout",
     "output_type": "stream",
     "text": [
      "0\n",
      "3\n",
      "[0.0, 64.0, 69.0]\n",
      "[64.0, 69.0, 128.0]\n",
      "[0.0, 64.0, 69.0]\n",
      "[64.0, 69.0, 128.0]\n",
      "Moviepy - Building video 2 eiffel tower PROCESSED.mp4.\n",
      "Moviepy - Writing video 2 eiffel tower PROCESSED.mp4\n",
      "\n"
     ]
    },
    {
     "name": "stderr",
     "output_type": "stream",
     "text": [
      "                                                                 \r"
     ]
    },
    {
     "name": "stdout",
     "output_type": "stream",
     "text": [
      "Moviepy - Done !\n",
      "Moviepy - video ready 2 eiffel tower PROCESSED.mp4\n",
      "8\n",
      "[10.0, 16.0, 29.0, 111.0, 116.0, 118.0, 130.0, 139.0]\n",
      "[16, 19, 32, 116, 118, 130, 139, 152]\n",
      "[10.0, 16.0, 29.0, 111.0, 116.0, 118.0, 130.0, 139.0]\n",
      "[16, 19, 32, 116, 118, 130, 139, 152]\n",
      "Moviepy - Building video 3 eiffel tower PROCESSED.mp4.\n",
      "Moviepy - Writing video 3 eiffel tower PROCESSED.mp4\n",
      "\n"
     ]
    },
    {
     "name": "stderr",
     "output_type": "stream",
     "text": [
      "                                                                 \r"
     ]
    },
    {
     "name": "stdout",
     "output_type": "stream",
     "text": [
      "Moviepy - Done !\n",
      "Moviepy - video ready 3 eiffel tower PROCESSED.mp4\n",
      "3\n",
      "[9.0, 13.0, 70.0]\n",
      "[13, 20, 75]\n",
      "[9.0, 13.0, 70.0]\n",
      "[13, 20, 75]\n",
      "Moviepy - Building video 4 eiffel tower PROCESSED.mp4.\n",
      "Moviepy - Writing video 4 eiffel tower PROCESSED.mp4\n",
      "\n"
     ]
    },
    {
     "name": "stderr",
     "output_type": "stream",
     "text": [
      "                                                               \r"
     ]
    },
    {
     "name": "stdout",
     "output_type": "stream",
     "text": [
      "Moviepy - Done !\n",
      "Moviepy - video ready 4 eiffel tower PROCESSED.mp4\n",
      "1\n",
      "[0]\n",
      "[40]\n",
      "[0]\n",
      "[40]\n",
      "Moviepy - Building video 5 eiffel tower PROCESSED.mp4.\n",
      "Moviepy - Writing video 5 eiffel tower PROCESSED.mp4\n",
      "\n"
     ]
    },
    {
     "name": "stderr",
     "output_type": "stream",
     "text": [
      "                                                                 \r"
     ]
    },
    {
     "name": "stdout",
     "output_type": "stream",
     "text": [
      "Moviepy - Done !\n",
      "Moviepy - video ready 5 eiffel tower PROCESSED.mp4\n",
      "3\n",
      "[24.0, 40.0, 58.0]\n",
      "[40, 58, 73]\n",
      "[24.0, 40.0, 58.0]\n",
      "[40, 58, 73]\n",
      "Moviepy - Building video 6 eiffel tower PROCESSED.mp4.\n",
      "Moviepy - Writing video 6 eiffel tower PROCESSED.mp4\n",
      "\n"
     ]
    },
    {
     "name": "stderr",
     "output_type": "stream",
     "text": [
      "                                                                 \r"
     ]
    },
    {
     "name": "stdout",
     "output_type": "stream",
     "text": [
      "Moviepy - Done !\n",
      "Moviepy - video ready 6 eiffel tower PROCESSED.mp4\n"
     ]
    }
   ],
   "source": [
    "from moviepy.editor import VideoFileClip, concatenate_videoclips\n",
    "import pandas as pd\n",
    "import json\n",
    "\n",
    "\n",
    "pickleFileName = 0\n",
    "fileName = 0\n",
    "objectString = 'eiffel tower'Pro\n",
    "\n",
    "\n",
    "for x in range(6):\n",
    "    \n",
    "    pickleFileName +=1\n",
    "    fileName +=1\n",
    "\n",
    "    f = open(f'../video/output/{fileName}.json')\n",
    "\n",
    "    with open(f'../video/output/{fileName}.json') as data_file:    \n",
    "        data = json.load(data_file)  \n",
    "\n",
    "    # Getting shot_label_annotations array:\n",
    "    h = data['annotation_results'][0]['shot_label_annotations']#[1]['segments']\n",
    "    segments = pd.json_normalize(h, record_path=['segments'], meta=[['entity','description']], errors='ignore')\n",
    "\n",
    "    df = pd.DataFrame(segments)\n",
    "\n",
    "    newdf = pd.DataFrame()\n",
    "\n",
    "    #Checking if columns exist\n",
    "    if 'entity.description' not in df:\n",
    "        df['entity.description'] = 0\n",
    "\n",
    "    if 'segment.start_time_offset.seconds' not in df:\n",
    "        df['segment.start_time_offset.seconds'] = 0\n",
    "\n",
    "    if 'segment.end_time_offset.seconds' not in df:\n",
    "        df['segment.end_time_offset.seconds'] = 0\n",
    "\n",
    "    # Replacing NA values\n",
    "    df['entity.description'] = df['entity.description'].fillna(0)\n",
    "    df['segment.start_time_offset.seconds'] = df['segment.start_time_offset.seconds'].fillna(0)\n",
    "    df['segment.end_time_offset.seconds'] = df['segment.end_time_offset.seconds'].fillna(0)\n",
    "\n",
    "    # Adding Duration from start to end\n",
    "    df['time_start_to_end'] = df['segment.start_time_offset.seconds'] - df['segment.end_time_offset.seconds']\n",
    "\n",
    "    #Getting Confidence as Numpy Float (numpy.float64)\n",
    "    df['confidence'] = df['confidence'].astype(float)\n",
    "\n",
    "    #Gets only rows matching desired object string\n",
    "    entityRows = df.loc[df['entity.description'] == objectString.casefold()]\n",
    "\n",
    "    #Checks if desired object string is present\n",
    "    if len(entityRows) == 0:\n",
    "        continue\n",
    "        \n",
    "\n",
    "    startVals = entityRows['segment.start_time_offset.seconds'].tolist()\n",
    "    endVals = entityRows['segment.end_time_offset.seconds'].tolist()\n",
    "\n",
    "    print(startVals)\n",
    "    print(endVals)\n",
    "\n",
    "\n",
    "\n",
    "\n",
    "\n",
    "\n",
    "\n",
    "\n",
    "\n",
    "\n",
    "\n",
    "\n",
    "\n",
    "\n",
    "    df = pd.read_pickle(f'output/{pickleFileName}.pickle')\n",
    "\n",
    "    objectString = 'eiffel tower'\n",
    "\n",
    "    rows = df.loc[df['object'] == objectString.casefold()]\n",
    "\n",
    "    startVals = rows['start'].tolist()\n",
    "    endVals = rows['end'].tolist()\n",
    "\n",
    "\n",
    "    print(startVals)\n",
    "    print(endVals)\n",
    "\n",
    "    \n",
    "    clip = VideoFileClip(f\"downloads/{pickleFileName}.mp4\")\n",
    "    clipsArray = []\n",
    "\n",
    "    for count, x in enumerate(startVals, 0) :\n",
    "        newclip = clip.subclip(startVals[count], endVals[count])\n",
    "        clipsArray.append(newclip)\n",
    "\n",
    "    finalClip = concatenate_videoclips(clipsArray)\n",
    "\n",
    "    finalClip.write_videofile(f\"processedVideos/{pickleFileName} {objectString} PROCESSED.mp4\")\n",
    "\n",
    "    \n",
    "\n"
   ]
  }
 ],
 "metadata": {
  "interpreter": {
   "hash": "0adcc2737ebf6a4a119f135174df96668767fca1ef1112612db5ecadf2b6d608"
  },
  "kernelspec": {
   "display_name": "Python 3.8.5 64-bit",
   "language": "python",
   "name": "python3"
  },
  "language_info": {
   "codemirror_mode": {
    "name": "ipython",
    "version": 3
   },
   "file_extension": ".py",
   "mimetype": "text/x-python",
   "name": "python",
   "nbconvert_exporter": "python",
   "pygments_lexer": "ipython3",
   "version": "3.10.4"
  },
  "orig_nbformat": 4
 },
 "nbformat": 4,
 "nbformat_minor": 2
}
