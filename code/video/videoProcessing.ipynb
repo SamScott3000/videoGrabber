{
 "cells": [
  {
   "cell_type": "code",
   "execution_count": 46,
   "metadata": {},
   "outputs": [
    {
     "name": "stdout",
     "output_type": "stream",
     "text": [
      "[7.0, 151.0, 153.0]\n",
      "[8, 153, 166]\n",
      "Moviepy - Building video Tower1 eiffel tower.mp4.\n",
      "MoviePy - Writing audio in Tower1 eiffel towerTEMP_MPY_wvf_snd.mp3\n"
     ]
    },
    {
     "name": "stderr",
     "output_type": "stream",
     "text": [
      "                                                                   \r"
     ]
    },
    {
     "name": "stdout",
     "output_type": "stream",
     "text": [
      "MoviePy - Done.\n",
      "Moviepy - Writing video Tower1 eiffel tower.mp4\n",
      "\n"
     ]
    },
    {
     "name": "stderr",
     "output_type": "stream",
     "text": [
      "                                                              \r"
     ]
    },
    {
     "name": "stdout",
     "output_type": "stream",
     "text": [
      "Moviepy - Done !\n",
      "Moviepy - video ready Tower1 eiffel tower.mp4\n"
     ]
    }
   ],
   "source": [
    "from moviepy.editor import VideoFileClip, concatenate_videoclips\n",
    "import pandas as pd\n",
    "\n",
    "\n",
    "pickleFileName = 'Tower1Pickle'\n",
    "\n",
    "df = pd.read_pickle(f'output/{pickleFileName}.pickle')\n",
    "\n",
    "objectString = 'eiffel tower'\n",
    "\n",
    "rows = df.loc[df['object'] == objectString.casefold()]\n",
    "\n",
    "startVals = rows['start'].tolist()\n",
    "endVals = rows['end'].tolist()\n",
    "\n",
    "\n",
    "print(startVals)\n",
    "print(endVals)\n",
    "\n",
    "videoInputOutputName = 'Tower1'\n",
    "clip = VideoFileClip(f\"../../{videoInputOutputName}.mp4\")\n",
    "clipsArray = []\n",
    "\n",
    "for count, x in enumerate(startVals, 0) :\n",
    "    newclip = clip.subclip(startVals[count], endVals[count])\n",
    "    clipsArray.append(newclip)\n",
    "\n",
    "finalClip = concatenate_videoclips(clipsArray)\n",
    "\n",
    "finalClip.write_videofile(f\"{videoInputOutputName} {objectString}.mp4\")\n",
    "\n",
    "\n",
    "\n",
    "\n",
    "\n",
    "\n",
    "\n",
    "\n"
   ]
  }
 ],
 "metadata": {
  "interpreter": {
   "hash": "0adcc2737ebf6a4a119f135174df96668767fca1ef1112612db5ecadf2b6d608"
  },
  "kernelspec": {
   "display_name": "Python 3.8.5 64-bit",
   "language": "python",
   "name": "python3"
  },
  "language_info": {
   "codemirror_mode": {
    "name": "ipython",
    "version": 3
   },
   "file_extension": ".py",
   "mimetype": "text/x-python",
   "name": "python",
   "nbconvert_exporter": "python",
   "pygments_lexer": "ipython3",
   "version": "3.10.4"
  },
  "orig_nbformat": 4
 },
 "nbformat": 4,
 "nbformat_minor": 2
}
